{
 "cells": [
  {
   "cell_type": "code",
   "execution_count": 8,
   "metadata": {},
   "outputs": [],
   "source": [
    "from get_dataset import GetDataset\n",
    "from model_manager import ModelManager\n",
    "# from trainer import Trainer, EWC\n",
    "from plot_manager import PlotManager\n",
    "import matplotlib.pyplot as plt\n"
   ]
  },
  {
   "cell_type": "code",
   "execution_count": 12,
   "metadata": {},
   "outputs": [],
   "source": [
    "dataset_manager = GetDataset()\n",
    "\n",
    "# Create datasets for each task\n",
    "train_loader_01 = dataset_manager.get_task_dataset([0, 1])\n",
    "train_loader_23 = dataset_manager.get_task_dataset([2, 3])\n",
    "train_loader_45 = dataset_manager.get_task_dataset([4, 5])\n",
    "train_loader_67 = dataset_manager.get_task_dataset([6, 7])\n",
    "train_loader_89 = dataset_manager.get_task_dataset([8, 9])\n",
    "\n",
    "test_loader_01 = dataset_manager.get_test_dataset([0, 1])\n",
    "test_loader_23 = dataset_manager.get_test_dataset([2, 3])\n",
    "test_loader_45 = dataset_manager.get_test_dataset([4, 5])\n",
    "test_loader_67 = dataset_manager.get_test_dataset([6, 7])\n",
    "test_loader_89 = dataset_manager.get_test_dataset([8, 9])\n"
   ]
  },
  {
   "cell_type": "code",
   "execution_count": 6,
   "metadata": {},
   "outputs": [
    {
     "name": "stderr",
     "output_type": "stream",
     "text": [
      "<CLASSIFIER> | training loss: 0.134 | training accuracy: 94.5% |: 100%|██████████| 200/200 [00:03<00:00, 52.64it/s] \n"
     ]
    }
   ],
   "source": [
    "# # Initialize model manager and model\n",
    "model_manager = ModelManager()\n",
    "model = model_manager.get_model()\n",
    "\n",
    "# Task 1: Train on 0-1\n",
    "trainer = Trainer(model, dataset=train_loader_0123456789, epochs=200, batch_size=128, lr=0.01)\n",
    "trainer.train()\n",
    "# train_losses_01 = []\n",
    "# val_accuracies_01 = []\n",
    "# print(\"training Task 1: Train on 0-1\")\n",
    "# for epoch in range(10):\n",
    "#     train_losses_01.append(trainer.train(use_ewc=False))\n",
    "# #     val_accuracies_01.append(trainer.evaluate())\n",
    "# # accuracy_01 = val_accuracies_01[-1]\n",
    "\n",
    "# EWC Preparation for Task 2\n",
    "# ewc = EWC(model, train_loader_01)"
   ]
  },
  {
   "cell_type": "code",
   "execution_count": null,
   "metadata": {},
   "outputs": [],
   "source": [
    "# Initialize model manager and model\n",
    "model_manager = ModelManager()\n",
    "model = model_manager.get_model()\n",
    "\n",
    "# Task 1: Train on 0-1\n",
    "trainer = Trainer(model, train_loader_01)\n",
    "train_losses_01 = []\n",
    "val_accuracies_01 = []\n",
    "print(\"training Task 1: Train on 0-1\")\n",
    "for epoch in range(10):\n",
    "    train_losses_01.append(trainer.train(use_ewc=False))\n",
    "#     val_accuracies_01.append(trainer.evaluate())\n",
    "# accuracy_01 = val_accuracies_01[-1]\n",
    "\n",
    "# EWC Preparation for Task 2\n",
    "ewc = EWC(model, train_loader_01)\n",
    "\n",
    "# Task 2: Train on 2-3 with EWC\n",
    "trainer = Trainer(model, train_loader_23, ewc=ewc)\n",
    "train_losses_23 = []\n",
    "val_accuracies_23 = []\n",
    "print(\"training Task 2: Train on 2-3\")\n",
    "for epoch in range(10):\n",
    "    train_losses_23.append(trainer.train(use_ewc=True))\n",
    "#     val_accuracies_23.append(trainer.evaluate())\n",
    "# accuracy_23 = val_accuracies_23[-1]\n",
    "\n",
    "# EWC Preparation for Task 3\n",
    "ewc = EWC(model, train_loader_23)\n",
    "\n",
    "# Task 3: Train on 4-5 with EWC\n",
    "trainer = Trainer(model, train_loader_45, ewc=ewc)\n",
    "train_losses_45 = []\n",
    "val_accuracies_45 = []\n",
    "print(\"training Task 3: Train on 4-5\")\n",
    "for epoch in range(10):\n",
    "    train_losses_45.append(trainer.train(use_ewc=True))\n",
    "#     val_accuracies_45.append(trainer.evaluate())\n",
    "# accuracy_45 = val_accuracies_45[-1]\n",
    "\n",
    "accuracy_01 = trainer.evaluate(test_loader_01)\n",
    "accuracy_23 = trainer.evaluate(test_loader_23)\n",
    "accuracy_45 = trainer.evaluate(test_loader_45)"
   ]
  },
  {
   "cell_type": "code",
   "execution_count": null,
   "metadata": {},
   "outputs": [],
   "source": [
    "# Plot results\n",
    "results = {\n",
    "    \"0-1\": accuracy_01,\n",
    "    \"0-3\": accuracy_23,\n",
    "    \"0-5\": accuracy_45\n",
    "}\n",
    "\n",
    "PlotManager.plot_results(results)\n",
    "\n",
    "# Plot training and validation losses/accuracies\n",
    "PlotManager.plot_train_results(train_losses_01, val_accuracies_01, title='Task 0-1')\n",
    "PlotManager.plot_train_results(train_losses_23, val_accuracies_23, title='Task 2-3 with EWC')\n",
    "PlotManager.plot_train_results(train_losses_45, val_accuracies_45, title='Task 4-5 with EWC')\n",
    "# PlotManager.plot_train_val(train_losses_all, val_accuracies_all, title='All 0-5')\n",
    "\n",
    "# Plot average training and validation losses/accuracies\n",
    "train_losses_list = [train_losses_01, train_losses_23, train_losses_45]\n",
    "val_accuracies_list = [val_accuracies_01, val_accuracies_23, val_accuracies_45]\n",
    "# train_losses_list = [train_losses_all]\n",
    "# val_accuracies_list = [val_accuracies_all]\n",
    "PlotManager.plot_avg_losses(train_losses_list, val_accuracies_list, title='Average Training and Validation Loss')\n"
   ]
  }
 ],
 "metadata": {
  "kernelspec": {
   "display_name": ".venv",
   "language": "python",
   "name": "python3"
  },
  "language_info": {
   "codemirror_mode": {
    "name": "ipython",
    "version": 3
   },
   "file_extension": ".py",
   "mimetype": "text/x-python",
   "name": "python",
   "nbconvert_exporter": "python",
   "pygments_lexer": "ipython3",
   "version": "3.12.2"
  }
 },
 "nbformat": 4,
 "nbformat_minor": 2
}

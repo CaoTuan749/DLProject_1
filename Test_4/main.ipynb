{
 "cells": [
  {
   "cell_type": "code",
   "execution_count": null,
   "metadata": {},
   "outputs": [],
   "source": [
    "from get_dataset import GetDataset\n",
    "from model_manager import ModelManager\n",
    "from trainer import Trainer, EWC\n",
    "from plot_manager import PlotManager\n"
   ]
  },
  {
   "cell_type": "code",
   "execution_count": null,
   "metadata": {},
   "outputs": [],
   "source": [
    "dataset_manager = GetDataset()\n",
    "\n",
    "# Create datasets for each task\n",
    "train_loader_01 = dataset_manager.get_task_dataset([0, 1])\n",
    "train_loader_23 = dataset_manager.get_task_dataset([2, 3])\n",
    "train_loader_45 = dataset_manager.get_task_dataset([4, 5])\n",
    "train_loader_012345 = dataset_manager.get_task_dataset([0, 1, 2, 3, 4, 5])\n",
    "\n",
    "#PlotManager.plot_sample_images(train_loader_01)"
   ]
  },
  {
   "cell_type": "code",
   "execution_count": null,
   "metadata": {},
   "outputs": [],
   "source": [
    "dataset_manager = GetDataset()\n",
    "\n",
    "# Create datasets for each task\n",
    "train_loader_01 = dataset_manager.get_task_dataset([0, 1])\n",
    "train_loader_23 = dataset_manager.get_task_dataset([2, 3])\n",
    "train_loader_45 = dataset_manager.get_task_dataset([4, 5])\n",
    "train_loader_012345 = dataset_manager.get_task_dataset([0, 1, 2, 3, 4, 5, 6, 7, 8, 9])\n",
    "\n",
    "test_loader_0123 = dataset_manager.get_test_dataset([0, 1, 2, 3])\n",
    "test_loader_012345 = dataset_manager.get_test_dataset([0, 1, 2, 3, 4, 5, 6, 7, 8, 9])\n",
    "\n",
    "# Initialize model manager and model\n",
    "model_manager = ModelManager()\n",
    "# model = model_manager.get_model()\n",
    "\n",
    "# # Task 1: Train on 0-1\n",
    "# trainer = Trainer(model, train_loader_01, test_loader_0123)\n",
    "# train_losses_01 = []\n",
    "# val_accuracies_01 = []\n",
    "# for epoch in range(5):\n",
    "#     train_losses_01.append(trainer.train(use_ewc=False))\n",
    "#     val_accuracies_01.append(trainer.evaluate())\n",
    "# accuracy_01 = val_accuracies_01[-1]\n",
    "\n",
    "# # EWC Preparation for Task 2\n",
    "# ewc = EWC(model, train_loader_01)\n",
    "\n",
    "# # Task 2: Train on 2-3 with EWC\n",
    "# trainer = Trainer(model, train_loader_23, test_loader_0123, ewc=ewc)\n",
    "# train_losses_23 = []\n",
    "# val_accuracies_23 = []\n",
    "# for epoch in range(5):\n",
    "#     train_losses_23.append(trainer.train(use_ewc=True))\n",
    "#     val_accuracies_23.append(trainer.evaluate())\n",
    "# accuracy_0123 = val_accuracies_23[-1]\n",
    "\n",
    "# # EWC Preparation for Task 3\n",
    "# ewc = EWC(model, train_loader_23)\n",
    "\n",
    "# # Task 3: Train on 4-5 with EWC\n",
    "# trainer = Trainer(model, train_loader_45, test_loader_012345, ewc=ewc)\n",
    "# train_losses_45 = []\n",
    "# val_accuracies_45 = []\n",
    "# for epoch in range(5):\n",
    "#     train_losses_45.append(trainer.train(use_ewc=True))\n",
    "#     val_accuracies_45.append(trainer.evaluate())\n",
    "# accuracy_012345 = val_accuracies_45[-1]\n",
    "\n",
    "# Initialize a new model for training on all 0-5 without EWC\n",
    "model_all = model_manager.get_model()\n",
    "trainer_all = Trainer(model_all, train_loader_012345, test_loader_012345, epochs= 10)\n",
    "trainer_all.train(use_ewc=False)\n"
   ]
  },
  {
   "cell_type": "code",
   "execution_count": null,
   "metadata": {},
   "outputs": [],
   "source": [
    "accuracy_all = trainer_all.evaluate()\n",
    "train_losses_all = trainer_all.get_train_losses()"
   ]
  },
  {
   "cell_type": "code",
   "execution_count": null,
   "metadata": {},
   "outputs": [],
   "source": [
    "# Plot results\n",
    "resultsAcc = {\n",
    "    # \"0-1\": accuracy_01,\n",
    "    # \"0-3\": accuracy_0123,\n",
    "    # \"0-5\": accuracy_012345,\n",
    "    \"All 0-9\": accuracy_all\n",
    "}\n",
    "PlotManager.plot_acc_results(resultsAcc)\n",
    "\n",
    "# Plot training and validation losses/accuracies\n",
    "# PlotManager.plot_train_val(train_losses_01, val_accuracies_01, title='Task 0-1')\n",
    "# PlotManager.plot_train_val(train_losses_23, val_accuracies_23, title='Task 2-3 with EWC')\n",
    "# PlotManager.plot_train_val(train_losses_45, val_accuracies_45, title='Task 4-5 with EWC')\n",
    "PlotManager.plot_train_results(train_losses_all, title='All 0-9')\n",
    "\n",
    "# Plot average training and validation losses/accuracies\n",
    "# train_losses_list = [train_losses_01, train_losses_23, train_losses_45, train_losses_all]\n",
    "# val_accuracies_list = [val_accuracies_01, val_accuracies_23, val_accuracies_45, val_accuracies_all]\n",
    "train_losses_list = [train_losses_all]\n",
    "\n"
   ]
  }
 ],
 "metadata": {
  "kernelspec": {
   "display_name": ".venv",
   "language": "python",
   "name": "python3"
  },
  "language_info": {
   "codemirror_mode": {
    "name": "ipython",
    "version": 3
   },
   "file_extension": ".py",
   "mimetype": "text/x-python",
   "name": "python",
   "nbconvert_exporter": "python",
   "pygments_lexer": "ipython3",
   "version": "3.12.4"
  }
 },
 "nbformat": 4,
 "nbformat_minor": 2
}
